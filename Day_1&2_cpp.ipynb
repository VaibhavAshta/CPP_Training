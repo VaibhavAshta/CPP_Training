{
 "cells": [
  {
   "cell_type": "code",
   "execution_count": 2,
   "id": "ba9540dd",
   "metadata": {},
   "outputs": [
    {
     "data": {
      "text/plain": [
       "[['prashant', 'jha'], ['85.56'], [440022, 'yyy']]"
      ]
     },
     "execution_count": 2,
     "metadata": {},
     "output_type": "execute_result"
    }
   ],
   "source": [
    "mylist = [['prashant', 'jha'] , ['85.56'],[440022,\"yyy\"]]\n",
    "mylist"
   ]
  },
  {
   "cell_type": "code",
   "execution_count": 12,
   "id": "66b197f2",
   "metadata": {},
   "outputs": [
    {
     "name": "stdout",
     "output_type": "stream",
     "text": [
      "prashant\n"
     ]
    }
   ],
   "source": [
    "print(mylist[0][0])"
   ]
  },
  {
   "cell_type": "code",
   "execution_count": 13,
   "id": "368509cd",
   "metadata": {},
   "outputs": [
    {
     "name": "stdout",
     "output_type": "stream",
     "text": [
      "['prashant', 'jha', 50, 25.5]\n"
     ]
    }
   ],
   "source": [
    "list1=[\"prashant\", \"jha\"]\n",
    "list2 =[50,25.50]\n",
    "print(list1+list2)"
   ]
  },
  {
   "cell_type": "code",
   "execution_count": 33,
   "id": "fb886c3b",
   "metadata": {},
   "outputs": [
    {
     "name": "stdout",
     "output_type": "stream",
     "text": [
      "[0, 7, 9, 22, 44, 88]\n"
     ]
    }
   ],
   "source": [
    "mylist=[44,22,7,0,9,88]\n",
    "mylist.sort()\n",
    "print(mylist)"
   ]
  },
  {
   "cell_type": "code",
   "execution_count": 34,
   "id": "0944b5b1",
   "metadata": {},
   "outputs": [
    {
     "name": "stdout",
     "output_type": "stream",
     "text": [
      "1771040308864\n",
      "1771040308864\n"
     ]
    }
   ],
   "source": [
    "newlist = mylist\n",
    "print(id(mylist))\n",
    "print(id(newlist))"
   ]
  },
  {
   "cell_type": "code",
   "execution_count": 35,
   "id": "903f106e",
   "metadata": {},
   "outputs": [
    {
     "name": "stdout",
     "output_type": "stream",
     "text": [
      "[0, 7, 9, 4, 44, 88]\n"
     ]
    }
   ],
   "source": [
    "newlist = mylist\n",
    "newlist[3] = 4\n",
    "print(mylist)"
   ]
  },
  {
   "cell_type": "code",
   "execution_count": 37,
   "id": "978f276c",
   "metadata": {},
   "outputs": [
    {
     "name": "stdout",
     "output_type": "stream",
     "text": [
      "False\n",
      "True\n"
     ]
    }
   ],
   "source": [
    "print(70 in mylist)\n",
    "print(7 in mylist)"
   ]
  },
  {
   "cell_type": "code",
   "execution_count": 52,
   "id": "f29511d2",
   "metadata": {},
   "outputs": [
    {
     "name": "stdout",
     "output_type": "stream",
     "text": [
      "{'ramesh', 1, 2, 'rishikesh', 5.66, 'rahul', 'sanjay', 'ayush', 'ankit'}\n"
     ]
    }
   ],
   "source": [
    "myset={1,2,\"sanjay\",5.66,\"rahul\",\"ayush\",\"ramesh\",\"ankit\",'rishikesh'} \n",
    "print(myset)"
   ]
  },
  {
   "cell_type": "code",
   "execution_count": 53,
   "id": "e5177aeb",
   "metadata": {},
   "outputs": [
    {
     "name": "stdout",
     "output_type": "stream",
     "text": [
      "{'ramesh', 1, 2, 'rishikesh', 5.66, 'rahul', 'sanjay', 'ayush', 'ankit'}\n",
      "{'ramesh', 1, 'rishikesh', 5.66, 'rahul', 'sanjay', 'ayush', 'ankit'}\n"
     ]
    }
   ],
   "source": [
    "myset.discard(5.6)\n",
    "print(myset)\n",
    "myset.remove(2)\n",
    "print(myset)"
   ]
  },
  {
   "cell_type": "code",
   "execution_count": 56,
   "id": "ea1f12fc",
   "metadata": {},
   "outputs": [
    {
     "ename": "SyntaxError",
     "evalue": "invalid syntax (Temp/ipykernel_26412/2865763862.py, line 4)",
     "output_type": "error",
     "traceback": [
      "\u001b[1;36m  File \u001b[1;32m\"C:\\Users\\VAIBHA~1\\AppData\\Local\\Temp/ipykernel_26412/2865763862.py\"\u001b[1;36m, line \u001b[1;32m4\u001b[0m\n\u001b[1;33m    i =0 prashant\u001b[0m\n\u001b[1;37m         ^\u001b[0m\n\u001b[1;31mSyntaxError\u001b[0m\u001b[1;31m:\u001b[0m invalid syntax\n"
     ]
    }
   ],
   "source": [
    "for i in mylist:\n",
    "    print(i)\n",
    "    \n",
    "i =0 prashant\n",
    "i= 1 Ashish\n",
    "i =2 Rahul\n",
    "i =3 sandip\n",
    ":\n",
    ":\n",
    "i = 11\n",
    "train = 20"
   ]
  },
  {
   "cell_type": "code",
   "execution_count": 57,
   "id": "8c3efa8a",
   "metadata": {},
   "outputs": [
    {
     "name": "stdout",
     "output_type": "stream",
     "text": [
      "{'name': 'prashant', 'professional': 'developer', 'empid': 1001}\n",
      "<class 'dict'>\n"
     ]
    }
   ],
   "source": [
    "mydict =\t{\n",
    "  \"name\": \"prashant\",\n",
    "  \"professional\": \"developer\",\n",
    "  \"empid\":1001 \n",
    "}\n",
    "print(mydict)\n",
    "print(type(mydict))"
   ]
  },
  {
   "cell_type": "code",
   "execution_count": 58,
   "id": "19fffdc3",
   "metadata": {},
   "outputs": [
    {
     "name": "stdout",
     "output_type": "stream",
     "text": [
      "{101: 'ashish', 102: 'ashish', '103': 'mohini', '104': 'trivani', 104: 'ashish'}\n"
     ]
    }
   ],
   "source": [
    "mydict =\t{\n",
    "  101: \"prashant\",\n",
    "  102: \"ashish\",\n",
    "  \"103\": \"mohini\",\n",
    "  \"104\": \"trivani\",\n",
    "  101: \"ashish\",\n",
    "  104: \"ashish\"\n",
    "}\n",
    "print(mydict)"
   ]
  },
  {
   "cell_type": "code",
   "execution_count": 59,
   "id": "c56bc4eb",
   "metadata": {},
   "outputs": [
    {
     "name": "stdout",
     "output_type": "stream",
     "text": [
      "{101: 'ashish', 102: 'peter', '103': 'mohini', '104': 'trivani', 104: 'ashish'}\n"
     ]
    }
   ],
   "source": [
    "mydict[102]=\"peter\"\n",
    "print(mydict)"
   ]
  },
  {
   "cell_type": "code",
   "execution_count": 62,
   "id": "cd1bcf37",
   "metadata": {},
   "outputs": [
    {
     "name": "stdout",
     "output_type": "stream",
     "text": [
      "101\n",
      "102\n",
      "103\n",
      "104\n",
      "104\n"
     ]
    }
   ],
   "source": [
    "for x in mydict:\n",
    "    print(x)"
   ]
  },
  {
   "cell_type": "code",
   "execution_count": 65,
   "id": "70c43ec6",
   "metadata": {},
   "outputs": [
    {
     "name": "stdout",
     "output_type": "stream",
     "text": [
      "ashish\n",
      "peter\n",
      "mohini\n",
      "trivani\n",
      "ashish\n"
     ]
    }
   ],
   "source": [
    "for x in mydict.values():\n",
    "    print(x)"
   ]
  },
  {
   "cell_type": "code",
   "execution_count": 67,
   "id": "8af16280",
   "metadata": {},
   "outputs": [
    {
     "name": "stdout",
     "output_type": "stream",
     "text": [
      "101 ashish\n",
      "102 peter\n",
      "103 mohini\n",
      "104 trivani\n",
      "104 ashish\n"
     ]
    }
   ],
   "source": [
    "for x, y in mydict.items():\n",
    "    print(x, y)"
   ]
  },
  {
   "cell_type": "code",
   "execution_count": 70,
   "id": "6185a3fd",
   "metadata": {},
   "outputs": [
    {
     "data": {
      "text/plain": [
       "'trivani'"
      ]
     },
     "execution_count": 70,
     "metadata": {},
     "output_type": "execute_result"
    }
   ],
   "source": [
    "mydict['104']"
   ]
  },
  {
   "cell_type": "code",
   "execution_count": 71,
   "id": "1d16de4f",
   "metadata": {},
   "outputs": [
    {
     "name": "stdout",
     "output_type": "stream",
     "text": [
      "{101: 'ashish', 102: 'peter', '103': 'mohini', '104': 'trivani', 104: 'ashish', 'mobile_no': 4646463738}\n",
      "{101: 'ashish', 102: 'peter', '103': 'mohini', '104': 'trivani', 104: 'ashish', 'mobile_no': 4646463738, 'Department': 'management'}\n"
     ]
    }
   ],
   "source": [
    "mydict[\"mobile_no\"]= 4646463738\n",
    "print(mydict)\n",
    "\n",
    "mydict[\"Department\"] = \"management\"\n",
    "print(mydict)"
   ]
  },
  {
   "cell_type": "code",
   "execution_count": 72,
   "id": "d9a85fc9",
   "metadata": {},
   "outputs": [
    {
     "name": "stdout",
     "output_type": "stream",
     "text": [
      "Enter two numbers\n",
      "Enter 1st no:25\n",
      "Enter 2nd no:85\n",
      "Before swapping\n",
      "After swapping\n"
     ]
    }
   ],
   "source": [
    "print(\"Enter two numbers\")\n",
    "num1=int(input(\"Enter 1st no:\"))\n",
    "\n",
    "num2=int(input(\"Enter 2nd no:\"))\n",
    "print('Before swapping')\n",
    "\n",
    "temp1 = num1\n",
    "num1=num2\n",
    "num2=temp1\n",
    "print('After swapping')"
   ]
  },
  {
   "cell_type": "code",
   "execution_count": 77,
   "id": "e398eb36",
   "metadata": {},
   "outputs": [
    {
     "name": "stdout",
     "output_type": "stream",
     "text": [
      "Enter any one value5\n",
      "Greater\n"
     ]
    }
   ],
   "source": [
    "a = int(input(\"Enter any one value\"))\n",
    "if a>0:\n",
    "    print(\"Greater\")\n",
    "    \n",
    "if a<0:\n",
    "    print(\"Less\")\n",
    "    \n",
    "if a==0:\n",
    "    print('Zero')"
   ]
  },
  {
   "cell_type": "code",
   "execution_count": 78,
   "id": "add8d57a",
   "metadata": {},
   "outputs": [
    {
     "ename": "IndentationError",
     "evalue": "expected an indented block (Temp/ipykernel_26412/471642740.py, line 8)",
     "output_type": "error",
     "traceback": [
      "\u001b[1;36m  File \u001b[1;32m\"C:\\Users\\VAIBHA~1\\AppData\\Local\\Temp/ipykernel_26412/471642740.py\"\u001b[1;36m, line \u001b[1;32m8\u001b[0m\n\u001b[1;33m    \u001b[0m\n\u001b[1;37m    ^\u001b[0m\n\u001b[1;31mIndentationError\u001b[0m\u001b[1;31m:\u001b[0m expected an indented block\n"
     ]
    }
   ],
   "source": [
    "a = int(input(\"Enter 1st digit:\"))\n",
    "b = int(input(\"Enter 2nd digit:\"))\n",
    "c = int(input(\"Enter 3rd digit:\"))\n",
    "d = int(input(\"Enter 4th digit:\"))\n",
    "e = int(input(\"Enter 5th digit:\"))\n",
    "\n",
    "if a>b:\n",
    "\n",
    "    \n"
   ]
  },
  {
   "cell_type": "code",
   "execution_count": 81,
   "id": "e1a537ef",
   "metadata": {},
   "outputs": [
    {
     "name": "stdout",
     "output_type": "stream",
     "text": [
      "Enter Marks of Paper1 :45\n",
      "Enter Marks of Paper2:55\n",
      "Enter Marks of Paper3:65\n",
      "Enter Marks of Paper4 :75\n",
      "Enter Marks of Paper5 :85\n",
      "Enter Marks of Practical1 :95\n",
      "Enter Marks of Practical2 :100\n",
      "Pass\n",
      "Total: 325\n",
      "Percentage: 65.0\n"
     ]
    }
   ],
   "source": [
    "#logic for student passing or not \n",
    "p1=int(input(\"Enter Marks of Paper1 :\"))\n",
    "p2=int(input(\"Enter Marks of Paper2:\"))\n",
    "p3=int(input(\"Enter Marks of Paper3:\"))\n",
    "p4=int(input(\"Enter Marks of Paper4 :\"))\n",
    "p5=int(input(\"Enter Marks of Paper5 :\"))\n",
    "pr1=int(input(\"Enter Marks of Practical1 :\"))\n",
    "\n",
    "pr2=int(input(\"Enter Marks of Practical2 :\"))\n",
    "if p1>40 and p2>40 and p3>40 and p4>40 and p5>40 and pr1>=25 and pr2>=25:\n",
    "    print('Pass')\n",
    "    \n",
    "else:\n",
    "    print('fail')\n",
    "    \n",
    "total = p1+p2+p3+p4+p5\n",
    "percentage = total/5\n",
    "\n",
    "print(\"Total:\",total)\n",
    "print(\"Percentage:\",percentage)\n"
   ]
  },
  {
   "cell_type": "code",
   "execution_count": 85,
   "id": "400effdc",
   "metadata": {},
   "outputs": [
    {
     "name": "stdout",
     "output_type": "stream",
     "text": [
      "Enter a character:a\n",
      "This is vowel\n"
     ]
    }
   ],
   "source": [
    "ch=str(input(\"Enter a character:\"))\n",
    "\n",
    "if ch =='a' or ch=='e' or ch=='i' or ch=='u' or ch=='0':\n",
    "    print(\"This is vowel\")\n",
    "else:\n",
    "    print('This is a consonent')"
   ]
  },
  {
   "cell_type": "code",
   "execution_count": 90,
   "id": "70c1e177",
   "metadata": {},
   "outputs": [
    {
     "name": "stdout",
     "output_type": "stream",
     "text": [
      "Enter percentage100\n",
      "your grade is a\n"
     ]
    }
   ],
   "source": [
    "p1=int(input(\"Enter percentage\"))\n",
    "\n",
    "if p1>40 and p1<60:\n",
    "    print(\"your grade is c\")\n",
    "elif p1>=60 and p1<80:\n",
    "    print(\"Your grade is b\")\n",
    "elif p1>=80 and p1<=100:\n",
    "    print(\"your grade is a\")\n",
    "    \n",
    "else:\n",
    "    print(\"fail\")"
   ]
  },
  {
   "cell_type": "code",
   "execution_count": 119,
   "id": "c9ccdc47",
   "metadata": {},
   "outputs": [
    {
     "name": "stdout",
     "output_type": "stream",
     "text": [
      "Enter a Character: 5\n",
      "Entered character is in upper case\n"
     ]
    }
   ],
   "source": [
    "# A, a, 0,#\n",
    "ch=ord(input(\"Enter a Character: \"))\n",
    "\n",
    "if ch<=48 and ch<58:\n",
    "    print('Entered character is Digit') \n",
    "    \n",
    "elif ch<=65 and ch<=97:\n",
    "    print('Entered character is in upper case')\n",
    "    \n",
    "elif ch<=97 and ch<=122:\n",
    "    print('Entered character is in lower case')\n",
    "    \n",
    "else:\n",
    "    print('invalid input')"
   ]
  },
  {
   "cell_type": "code",
   "execution_count": null,
   "id": "357c4261",
   "metadata": {},
   "outputs": [],
   "source": [
    "n=str(input(\"Enter your Name\"))\n",
    "clg=str(input(\"\\nEnter your college Name:\"))\n",
    "cn=str(input(\"CLass Name: \"))\n",
    "rno=int(input(\"Roll No: \"))\n",
    "\n",
    "p1=int(input(\"Enter Marks of DAA :\"))\n",
    "p2=int(input(\"Enter Marks of OS:\"))\n",
    "p3=int(input(\"Enter Marks of NWT:\"))\n",
    "p4=int(input(\"Enter Marks of AI :\"))\n",
    "p5=int(input(\"Enter Marks of DS :\"))\n",
    "\n",
    "pr1=int(input(\"Enter Marks of NWT Practical :\"))\n",
    "pr2=int(input(\"Enter Marks of DAA Practical :\"))\n",
    "pr3=int(input(\"Enter Marks of AI Practical :\"))\n",
    "pr4=int(input(\"Enter Marks of DS Practical :\"))\n",
    "\n",
    "if p1>40 and p2>40 and p3>40 and p4>40 and p5>40 and pr1>=25 and pr2>=25 and pr3>=25 and pr4>=25:\n",
    "    print('Pass')\n",
    "    \n",
    "else:\n",
    "    print('fail')\n",
    "    \n",
    "total = p1+p2+p3+p4+p5\n",
    "percentage = total/5\n",
    "\n",
    "print(\"Total:\",total)\n",
    "print(\"Percentage:\",percentage)\n"
   ]
  },
  {
   "cell_type": "code",
   "execution_count": null,
   "id": "ea9f3a32",
   "metadata": {},
   "outputs": [],
   "source": []
  },
  {
   "cell_type": "code",
   "execution_count": null,
   "id": "d9b73be0",
   "metadata": {},
   "outputs": [],
   "source": []
  }
 ],
 "metadata": {
  "kernelspec": {
   "display_name": "Python 3 (ipykernel)",
   "language": "python",
   "name": "python3"
  },
  "language_info": {
   "codemirror_mode": {
    "name": "ipython",
    "version": 3
   },
   "file_extension": ".py",
   "mimetype": "text/x-python",
   "name": "python",
   "nbconvert_exporter": "python",
   "pygments_lexer": "ipython3",
   "version": "3.9.7"
  }
 },
 "nbformat": 4,
 "nbformat_minor": 5
}
