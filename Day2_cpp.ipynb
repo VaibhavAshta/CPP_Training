{
 "cells": [
  {
   "cell_type": "code",
   "execution_count": 1,
   "id": "e7ea832d",
   "metadata": {},
   "outputs": [
    {
     "name": "stdout",
     "output_type": "stream",
     "text": [
      "Enter your Nameva\n",
      "\n",
      "Enter your college Name:TCET\n",
      "CLass Name: r\n",
      "Roll No: 54\n",
      "Enter Marks of DAA :45\n",
      "Enter Marks of OS:45\n",
      "Enter Marks of NWT:45\n",
      "Enter Marks of AI :454\n",
      "Enter Marks of DS :45\n",
      "Enter Marks of NWT Practical :45\n",
      "Enter Marks of DAA Practical :45\n",
      "Enter Marks of AI Practical :45\n",
      "Enter Marks of DS Practical :45\n",
      "Pass\n",
      "Total: 634\n",
      "Percentage: 126.8\n",
      "==============================================================\n",
      "                                                              \n",
      "                 College Name:  TCET                        \n",
      "                                                              \n",
      "==============================================================\n"
     ]
    }
   ],
   "source": [
    "n=str(input(\"Enter your Name\"))\n",
    "clg=str(input(\"\\nEnter your college Name:\"))\n",
    "cn=str(input(\"CLass Name: \"))\n",
    "rno=int(input(\"Roll No: \"))\n",
    "\n",
    "p1=int(input(\"Enter Marks of DAA :\"))\n",
    "p2=int(input(\"Enter Marks of OS:\"))\n",
    "p3=int(input(\"Enter Marks of NWT:\"))\n",
    "p4=int(input(\"Enter Marks of AI :\"))\n",
    "p5=int(input(\"Enter Marks of DS :\"))\n",
    "\n",
    "pr1=int(input(\"Enter Marks of NWT Practical :\"))\n",
    "pr2=int(input(\"Enter Marks of DAA Practical :\"))\n",
    "pr3=int(input(\"Enter Marks of AI Practical :\"))\n",
    "pr4=int(input(\"Enter Marks of DS Practical :\"))\n",
    "\n",
    "if p1>40 and p2>40 and p3>40 and p4>40 and p5>40 and pr1>=25 and pr2>=25 and pr3>=25 and pr4>=25:\n",
    "    print('Pass')\n",
    "    \n",
    "else:\n",
    "    print('fail')\n",
    "    \n",
    "total = p1+p2+p3+p4+p5\n",
    "percentage = total/5\n",
    "\n",
    "print(\"Total:\",total)\n",
    "print(\"Percentage:\",percentage)\n",
    "\n",
    "print(\"==============================================================\")\n",
    "print(\"                                                              \")\n",
    "print(\"                 College Name: \", clg,\"                       \")\n",
    "print(\"                                                              \")\n",
    "print(\"==============================================================\")\n",
    "\n",
    "\n",
    "print(\"                 Student Name: \", n,\"                         \")\n",
    "print(\"                 Class Name  : \", cn,\"                        \")\n",
    "print(\"                 Roll No     : \", rno,\"                       \")\n",
    "print(\"==============================================================\")\n",
    "print(\"                                                              \")\n",
    "print(\" Subject Name       :   Total Marks      :  Obtanied Marks  : \")\n",
    "print(\"                                                              \")\n"
   ]
  },
  {
   "cell_type": "code",
   "execution_count": 2,
   "id": "791a1bfe",
   "metadata": {},
   "outputs": [
    {
     "name": "stdout",
     "output_type": "stream",
     "text": [
      "1\n",
      "2\n",
      "3\n",
      "4\n",
      "5\n",
      "6\n",
      "7\n",
      "8\n",
      "9\n",
      "10\n"
     ]
    }
   ],
   "source": [
    "for i in range(1,11): #end n-1\n",
    "    print(i)\n",
    "# i=1"
   ]
  },
  {
   "cell_type": "code",
   "execution_count": 3,
   "id": "49b2b62b",
   "metadata": {},
   "outputs": [
    {
     "name": "stdout",
     "output_type": "stream",
     "text": [
      "2\n",
      "4\n",
      "6\n",
      "8\n",
      "10\n",
      "12\n",
      "14\n",
      "16\n",
      "18\n",
      "20\n"
     ]
    }
   ],
   "source": [
    "for i in range(1,11):\n",
    "    print(i*2)\n",
    "# i= ....10\n",
    "# 1*2=2"
   ]
  },
  {
   "cell_type": "code",
   "execution_count": 18,
   "id": "0984e20d",
   "metadata": {},
   "outputs": [
    {
     "ename": "SyntaxError",
     "evalue": "invalid syntax (Temp/ipykernel_16408/2246427382.py, line 3)",
     "output_type": "error",
     "traceback": [
      "\u001b[1;36m  File \u001b[1;32m\"C:\\Users\\VAIBHA~1\\AppData\\Local\\Temp/ipykernel_16408/2246427382.py\"\u001b[1;36m, line \u001b[1;32m3\u001b[0m\n\u001b[1;33m    print('\\n',i*11,'\\n'i*12,i*13,i*14,i*15,i*16,i*17,i*18)\u001b[0m\n\u001b[1;37m                        ^\u001b[0m\n\u001b[1;31mSyntaxError\u001b[0m\u001b[1;31m:\u001b[0m invalid syntax\n"
     ]
    }
   ],
   "source": [
    "for i in range(1,11):\n",
    "    print(i*2, i*3, i*4, i*5, i*6, i*7,  i*8,    i*9)\n",
    "    print(i*11,i*12,i*13,i*14,i*15,i*16,i*17,i*18)\n",
    "\n"
   ]
  },
  {
   "cell_type": "code",
   "execution_count": 19,
   "id": "1caaf659",
   "metadata": {},
   "outputs": [
    {
     "name": "stdout",
     "output_type": "stream",
     "text": [
      "3\n",
      "2\n",
      "5\n",
      "8\n",
      "9\n",
      "7\n",
      "4\n"
     ]
    }
   ],
   "source": [
    "mylist = [3,2,5,8,9,7,4]\n",
    "for i in mylist:\n",
    "    print(i)"
   ]
  },
  {
   "cell_type": "code",
   "execution_count": 20,
   "id": "cfa3cac7",
   "metadata": {},
   "outputs": [
    {
     "name": "stdout",
     "output_type": "stream",
     "text": [
      "v\n",
      "a\n",
      "i\n",
      "b\n",
      "h\n",
      "a\n",
      "v\n"
     ]
    }
   ],
   "source": [
    "name = 'vaibhav'\n",
    "for i in name:\n",
    "    print(i)"
   ]
  },
  {
   "cell_type": "code",
   "execution_count": 28,
   "id": "a47baa61",
   "metadata": {},
   "outputs": [
    {
     "name": "stdout",
     "output_type": "stream",
     "text": [
      "h\n"
     ]
    }
   ],
   "source": [
    "name = 'vaibhav'\n",
    "for i in name:\n",
    "    if i=='h':\n",
    "        print(i)"
   ]
  },
  {
   "cell_type": "code",
   "execution_count": 29,
   "id": "f3058fea",
   "metadata": {},
   "outputs": [
    {
     "name": "stdout",
     "output_type": "stream",
     "text": [
      "10\n",
      "9\n",
      "8\n",
      "7\n",
      "6\n",
      "5\n",
      "4\n",
      "3\n",
      "2\n",
      "1\n"
     ]
    }
   ],
   "source": [
    "for i in range(10,0,-1):\n",
    "    print(i)"
   ]
  },
  {
   "cell_type": "code",
   "execution_count": 31,
   "id": "c9cdd1b7",
   "metadata": {},
   "outputs": [
    {
     "name": "stdout",
     "output_type": "stream",
     "text": [
      "30\n",
      "28\n",
      "26\n",
      "24\n",
      "22\n",
      "20\n",
      "18\n",
      "16\n",
      "14\n",
      "12\n",
      "10\n",
      "8\n",
      "6\n"
     ]
    }
   ],
   "source": [
    "r = range(30,5,-2)\n",
    "for i in r:\n",
    "    print(i)"
   ]
  },
  {
   "cell_type": "code",
   "execution_count": 35,
   "id": "2491d455",
   "metadata": {},
   "outputs": [
    {
     "name": "stdout",
     "output_type": "stream",
     "text": [
      "v\n",
      "a\n",
      "i\n",
      "b\n",
      "h\n"
     ]
    }
   ],
   "source": [
    "for ch in 'vaibhav':\n",
    "    print(ch)\n",
    "    if ch=='h' or ch=='j':\n",
    "        break\n",
    "        print('Current Letter :',ch)"
   ]
  },
  {
   "cell_type": "code",
   "execution_count": 36,
   "id": "bb842d5e",
   "metadata": {},
   "outputs": [
    {
     "name": "stdout",
     "output_type": "stream",
     "text": [
      "1\n",
      "2\n",
      "3\n",
      "4\n"
     ]
    }
   ],
   "source": [
    "#break\n",
    "for i in range(1,10):\n",
    "    if i==5:\n",
    "        break\n",
    "    print(i)"
   ]
  },
  {
   "cell_type": "code",
   "execution_count": 53,
   "id": "24937eba",
   "metadata": {},
   "outputs": [
    {
     "name": "stdout",
     "output_type": "stream",
     "text": [
      "1 5\n",
      "2 4\n",
      "4 2\n",
      "5 1\n"
     ]
    }
   ],
   "source": [
    "for i in range(1,6):\n",
    "    if i==3:\n",
    "        continue\n",
    "    print(i,(6-i))"
   ]
  },
  {
   "cell_type": "code",
   "execution_count": 61,
   "id": "821ccff1",
   "metadata": {},
   "outputs": [
    {
     "name": "stdout",
     "output_type": "stream",
     "text": [
      "Enter Name:vaibhav\n",
      "The character present at index no 1 value: a\n"
     ]
    }
   ],
   "source": [
    "name=input('Enter Name:')\n",
    "i=0\n",
    "for x in name:\n",
    "    if x == 'a':\n",
    "        print('The character present at index no',i,'value:',x)\n",
    "        break\n",
    "    i=i+1"
   ]
  },
  {
   "cell_type": "code",
   "execution_count": 67,
   "id": "7185192c",
   "metadata": {},
   "outputs": [
    {
     "name": "stdout",
     "output_type": "stream",
     "text": [
      "10\n",
      "20\n",
      "200\n",
      "300\n",
      "This is my purchased cart item\n",
      "60\n",
      "This is my purchased cart item\n"
     ]
    }
   ],
   "source": [
    "mycart=[10,20,200,300,800,60,700]\n",
    "for i in mycart:\n",
    "    if i>400:\n",
    "        print('This is my purchased cart item')\n",
    "        continue\n",
    "    print(i)\n"
   ]
  },
  {
   "cell_type": "code",
   "execution_count": 70,
   "id": "637bf4ba",
   "metadata": {},
   "outputs": [
    {
     "name": "stdout",
     "output_type": "stream",
     "text": [
      "0\n",
      "1\n",
      "2\n",
      "3\n",
      "4\n",
      "5\n",
      "6\n",
      "7\n",
      "8\n",
      "count=: 4\n"
     ]
    }
   ],
   "source": [
    "count=0\n",
    "for i in range(9):\n",
    "    if i%2==0:\n",
    "        print(i)\n",
    "    else:\n",
    "        print(i)\n",
    "        count += 1\n",
    "print('count=:',count)"
   ]
  },
  {
   "cell_type": "code",
   "execution_count": 1,
   "id": "443b5b37",
   "metadata": {},
   "outputs": [
    {
     "name": "stdout",
     "output_type": "stream",
     "text": [
      "10\n",
      "9\n",
      "8\n",
      "7\n",
      "6\n",
      "5\n",
      "4\n",
      "3\n",
      "2\n",
      "1\n"
     ]
    }
   ],
   "source": [
    "i = 10\n",
    "while i>0:\n",
    "    print(i)\n",
    "    i = i-1"
   ]
  },
  {
   "cell_type": "code",
   "execution_count": 24,
   "id": "e9ac39d4",
   "metadata": {},
   "outputs": [
    {
     "name": "stdout",
     "output_type": "stream",
     "text": [
      "1\n",
      "2\n",
      "3\n"
     ]
    }
   ],
   "source": [
    "i = 1\n",
    "while i<6:\n",
    "    print(i)\n",
    "    if i == 3:\n",
    "        break\n",
    "    i +=1"
   ]
  },
  {
   "cell_type": "code",
   "execution_count": null,
   "id": "44bf9fad",
   "metadata": {},
   "outputs": [],
   "source": [
    "#nested for loop\n",
    "for i in range(1,5):\n",
    "    for j in range(1,5):\n",
    "        print(i, end=\"\")\n",
    "print(i)"
   ]
  },
  {
   "cell_type": "markdown",
   "id": "3c2e7af8",
   "metadata": {},
   "source": [
    "# A company decided to give bonus of 5% to employee if his/her year of service is more than 5 years.\n",
    "Ask user for their salary and year of service and print the net bonus amount.\n"
   ]
  },
  {
   "cell_type": "code",
   "execution_count": 9,
   "id": "6eb67339",
   "metadata": {},
   "outputs": [
    {
     "name": "stdout",
     "output_type": "stream",
     "text": [
      "Enter your Current Salary: 1000\n",
      "Enter years of service: 6\n",
      "Your Net Bonus is: 1050.0\n"
     ]
    }
   ],
   "source": [
    "cs=int(input('Enter your Current Salary: '))\n",
    "ys=int(input('Enter years of service: '))\n",
    "\n",
    "if ys > 5:\n",
    "    salary = cs + cs*5/100\n",
    "    print('Your Net Bonus is:',salary)\n",
    "    "
   ]
  },
  {
   "cell_type": "markdown",
   "id": "ebdfa336",
   "metadata": {},
   "source": [
    "Take values of length and breadth of a rectangle from user and check if it is square or not."
   ]
  },
  {
   "cell_type": "code",
   "execution_count": 11,
   "id": "d00a1df7",
   "metadata": {},
   "outputs": [
    {
     "name": "stdout",
     "output_type": "stream",
     "text": [
      "Enter Length of Rectabgle: 5\n",
      "Enter Breath of Rectabgle: 6\n",
      "This is a rectangle\n"
     ]
    }
   ],
   "source": [
    "l=int(input('Enter Length of Rectabgle: '))\n",
    "b=int(input('Enter Breath of Rectabgle: '))\n",
    "\n",
    "if l==b:\n",
    "    print('This is a Square')\n",
    "else:\n",
    "    print('This is a rectangle')"
   ]
  },
  {
   "cell_type": "markdown",
   "id": "e39ae67f",
   "metadata": {},
   "source": [
    "Take two int values from user and print greatest among them."
   ]
  },
  {
   "cell_type": "code",
   "execution_count": 13,
   "id": "ffbc6e6a",
   "metadata": {},
   "outputs": [
    {
     "name": "stdout",
     "output_type": "stream",
     "text": [
      "Enter 1st No: 5\n",
      "Enter 2nd No: 45\n",
      "The Greatest no among the 2 nos is: 45\n"
     ]
    }
   ],
   "source": [
    "a=int(input('Enter 1st No: '))\n",
    "b=int(input('Enter 2nd No: '))\n",
    "\n",
    "if a > b:\n",
    "    print('The Greatest no among the 2 nos is:',a)\n",
    "else:\n",
    "    print('The Greatest no among the 2 nos is:',b)"
   ]
  },
  {
   "cell_type": "markdown",
   "id": "5fe12ecc",
   "metadata": {},
   "source": [
    "A shop will give discount of 10% if the cost of purchased quantity is more than 1000.\n",
    "Ask user for quantity\n",
    "Suppose, one unit will cost 100.\n",
    "Judge and print total cost for user.\n"
   ]
  },
  {
   "cell_type": "code",
   "execution_count": 16,
   "id": "07201d91",
   "metadata": {},
   "outputs": [
    {
     "name": "stdout",
     "output_type": "stream",
     "text": [
      "Enter purchased quantity in units: 50\n",
      "The discounted price is: 4500.0\n"
     ]
    }
   ],
   "source": [
    "cp=int(input('Enter purchased quantity in units: '))\n",
    "cost= 100*cp\n",
    "if cp >10:\n",
    "    discount= cost-cost/10\n",
    "    print('The discounted price is:',discount)\n",
    "else:\n",
    "    print('No discount')\n",
    "    "
   ]
  },
  {
   "cell_type": "markdown",
   "id": "d07d8c10",
   "metadata": {},
   "source": [
    "A school has following rules for grading system:\n",
    "a. Below 25 - F\n",
    "b. 25 to 45 - E\n",
    "c. 45 to 50 - D\n",
    "d. 50 to 60 - C\n",
    "e. 60 to 80 - B\n",
    "f. Above 80 - A\n",
    "Ask user to enter marks and print the corresponding grade.\n"
   ]
  },
  {
   "cell_type": "code",
   "execution_count": 23,
   "id": "41c21e67",
   "metadata": {},
   "outputs": [
    {
     "name": "stdout",
     "output_type": "stream",
     "text": [
      "Enter your marks: 88\n",
      "Your grade is A\n"
     ]
    }
   ],
   "source": [
    "m=int(input('Enter your marks: '))\n",
    "if m<25:\n",
    "    print('Your grade is F')\n",
    "elif m<45 and m>=25:\n",
    "    print('Your grade is E')\n",
    "elif m<50 and m>=45:\n",
    "    print('Your grade is D')\n",
    "elif m<60 and m>=50:\n",
    "    print('Your grade is C')\n",
    "elif m<80 and m>=60:\n",
    "    print('Your grade is B')\n",
    "else:\n",
    "    print('Your grade is A')\n",
    "    "
   ]
  },
  {
   "cell_type": "markdown",
   "id": "d5f56f1f",
   "metadata": {},
   "source": [
    "Take input of age of 3 people by user and determine oldest and youngest among them."
   ]
  },
  {
   "cell_type": "code",
   "execution_count": 14,
   "id": "7a18e9e0",
   "metadata": {},
   "outputs": [
    {
     "name": "stdout",
     "output_type": "stream",
     "text": [
      "Enter your age P1: 55\n",
      "Enter your age P2: 65\n",
      "Enter your age P3: 75\n",
      "Largest number is 75\n",
      "Smallest number is 0\n"
     ]
    }
   ],
   "source": [
    "a=int(input('Enter your age P1: '))\n",
    "b=int(input('Enter your age P2: '))\n",
    "c=int(input('Enter your age P3: '))\n",
    "largest = 0\n",
    "\n",
    "if a>b and a>c :\n",
    "    if b > c:\n",
    "        smallest=c\n",
    "    else:\n",
    "        smallest = b\n",
    "    largest= a\n",
    "elif b>a and b>c:\n",
    "    if a > c:\n",
    "        smallest=c\n",
    "    else:\n",
    "        smallest = a\n",
    "    largest= b\n",
    "else:\n",
    "    largest = c\n",
    "print(\"Largest number is\",largest)\n",
    "print(\"Smallest number is\",smallest)\n",
    "    "
   ]
  },
  {
   "cell_type": "code",
   "execution_count": null,
   "id": "e282bebf",
   "metadata": {},
   "outputs": [],
   "source": []
  },
  {
   "cell_type": "code",
   "execution_count": null,
   "id": "c3e8506c",
   "metadata": {},
   "outputs": [],
   "source": []
  }
 ],
 "metadata": {
  "kernelspec": {
   "display_name": "Python 3 (ipykernel)",
   "language": "python",
   "name": "python3"
  },
  "language_info": {
   "codemirror_mode": {
    "name": "ipython",
    "version": 3
   },
   "file_extension": ".py",
   "mimetype": "text/x-python",
   "name": "python",
   "nbconvert_exporter": "python",
   "pygments_lexer": "ipython3",
   "version": "3.9.7"
  }
 },
 "nbformat": 4,
 "nbformat_minor": 5
}
