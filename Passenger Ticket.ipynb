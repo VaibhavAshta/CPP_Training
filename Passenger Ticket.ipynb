{
 "cells": [
  {
   "cell_type": "code",
   "execution_count": 8,
   "id": "e801d9ab",
   "metadata": {},
   "outputs": [
    {
     "name": "stdout",
     "output_type": "stream",
     "text": [
      "Passenger Name            :Vaibhav\n",
      "Passenger Age             :20\n",
      "Enter No. of passenger    :80\n",
      "Phone no of passenger     :29920\n",
      "Email-ID of passenger     :@ham.com\n",
      "Place of boarding         :mum\n",
      "Place of Arriving         :del\n",
      "1. Non AC Bus 500 \n",
      "2. AC Bus 1000\n",
      "2\n",
      "=================================================================================\n"
     ]
    }
   ],
   "source": [
    "def getData():\n",
    "    global n,f\n",
    "    Name    = input(    \"Passenger Name            :\")\n",
    "    age     = int(input(\"Passenger Age             :\"))\n",
    "    n       = int(input(\"Enter No. of passenger    :\"))\n",
    "    mob_no  = int(input(\"Phone no of passenger     :\"))\n",
    "    email_id= str(input(\"Email-ID of passenger     :\")) \n",
    "    b_place = input(    \"Place of boarding         :\")\n",
    "    d_place = input(    \"Place of Arriving         :\")\n",
    "    f       = int(input(\"1. Non AC Bus 500 \\n2. AC Bus 1000\\n\"))\n",
    "    print(\"=================================================================================\")     \n",
    "getData()"
   ]
  },
  {
   "cell_type": "code",
   "execution_count": 9,
   "id": "7b3cdb25",
   "metadata": {},
   "outputs": [
    {
     "name": "stdout",
     "output_type": "stream",
     "text": [
      " 80000\n"
     ]
    }
   ],
   "source": [
    "def fare(n,f):\n",
    "    if f == 1:\n",
    "        cost=n*500\n",
    "        print(\"\",cost)\n",
    "    elif f == 2:\n",
    "        cost = n*1000\n",
    "        print(\"\",cost)\n",
    "    else:\n",
    "        print(\"invalid\")\n",
    "fare(n,f)"
   ]
  },
  {
   "cell_type": "code",
   "execution_count": null,
   "id": "f65a8663",
   "metadata": {},
   "outputs": [],
   "source": [
    "def show():\n",
    "    \n",
    "    "
   ]
  },
  {
   "cell_type": "code",
   "execution_count": null,
   "id": "3d47c879",
   "metadata": {},
   "outputs": [],
   "source": []
  },
  {
   "cell_type": "code",
   "execution_count": null,
   "id": "fc6a9f56",
   "metadata": {},
   "outputs": [],
   "source": []
  },
  {
   "cell_type": "code",
   "execution_count": null,
   "id": "48fe7f09",
   "metadata": {},
   "outputs": [],
   "source": []
  }
 ],
 "metadata": {
  "kernelspec": {
   "display_name": "Python 3 (ipykernel)",
   "language": "python",
   "name": "python3"
  },
  "language_info": {
   "codemirror_mode": {
    "name": "ipython",
    "version": 3
   },
   "file_extension": ".py",
   "mimetype": "text/x-python",
   "name": "python",
   "nbconvert_exporter": "python",
   "pygments_lexer": "ipython3",
   "version": "3.9.7"
  }
 },
 "nbformat": 4,
 "nbformat_minor": 5
}
