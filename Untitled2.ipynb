{
 "cells": [
  {
   "cell_type": "code",
   "execution_count": 28,
   "id": "8d90ae7b",
   "metadata": {},
   "outputs": [
    {
     "name": "stdout",
     "output_type": "stream",
     "text": [
      "Enter your name      : vaibhav\n",
      "Enter you Branch name: ai ds\n",
      "Enter your M1 marks  :55\n",
      "Enter your Phy marks :55\n",
      "Enter your chem marks:55\n",
      "Enter your Cpp marks :55\n",
      "Enter your Eng marks :55\n",
      "Enter Your 1st practical marks:55\n",
      "Enter Your 2nd practical marks:55\n",
      "Total marks: 231.0 \n",
      "Percentage: 46.2\n",
      "Pass\n"
     ]
    }
   ],
   "source": [
    "class College:\n",
    "    def college_name(self):\n",
    "        print(\"TCET\")\n",
    "class Student_info():\n",
    "        name  = input(\"Enter your name      : \")\n",
    "        branch= input(\"Enter you Branch name: \") \n",
    "class Sub_mks():\n",
    "        p1 = int(input(\"Enter your M1 marks  :\"))\n",
    "        p2 = int(input(\"Enter your Phy marks :\"))\n",
    "        p3 = int(input(\"Enter your chem marks:\"))\n",
    "        p4 = int(input(\"Enter your Cpp marks :\"))\n",
    "        p5 = int(input(\"Enter your Eng marks :\"))\n",
    "        \n",
    "class Practical():\n",
    "        pr1 = int(input(\"Enter Your 1st practical marks:\"))\n",
    "        pr2 = int(input(\"Enter Your 2nd practical marks:\"))\n",
    "        \n",
    "class Result(College, Student_info, Sub_mks, Practical):\n",
    "    def total(self):\n",
    "        total = self.p1+self.p2+self.p3+self.p4+self.p5/5\n",
    "        percentage = total*100/500\n",
    "        print(\"Total marks:\",total,\"\\nPercentage:\",percentage)\n",
    "        if self.p1 >=40 and self.p2 >=40 and self.p3 >=40 and self.p4 >=40 and self.p5 >=40 and self.pr1 >=25 and self.pr2 >=25:\n",
    "            print(\"Pass\")\n",
    "        else:\n",
    "            print(\"Fail\")\n",
    "\n",
    "obj = Result()\n",
    "obj.total()"
   ]
  },
  {
   "cell_type": "code",
   "execution_count": 57,
   "id": "171115a8",
   "metadata": {},
   "outputs": [
    {
     "name": "stdout",
     "output_type": "stream",
     "text": [
      "Enter the amount to Deposite     : 5454516\n",
      "Enter the amount to withdraw     : 125458\n"
     ]
    },
    {
     "ename": "TypeError",
     "evalue": "unsupported operand type(s) for -: 'str' and 'str'",
     "output_type": "error",
     "traceback": [
      "\u001b[1;31m---------------------------------------------------------------------------\u001b[0m",
      "\u001b[1;31mTypeError\u001b[0m                                 Traceback (most recent call last)",
      "\u001b[1;32mC:\\Users\\VAIBHA~1\\AppData\\Local\\Temp/ipykernel_17260/3116879257.py\u001b[0m in \u001b[0;36m<module>\u001b[1;34m\u001b[0m\n\u001b[0;32m     10\u001b[0m         \u001b[0mself\u001b[0m\u001b[1;33m.\u001b[0m\u001b[0meduloan\u001b[0m  \u001b[1;33m=\u001b[0m \u001b[1;34m\"8%\"\u001b[0m\u001b[1;33m\u001b[0m\u001b[1;33m\u001b[0m\u001b[0m\n\u001b[0;32m     11\u001b[0m \u001b[1;33m\u001b[0m\u001b[0m\n\u001b[1;32m---> 12\u001b[1;33m \u001b[1;32mclass\u001b[0m \u001b[0mBank\u001b[0m\u001b[1;33m(\u001b[0m\u001b[0mRBI\u001b[0m\u001b[1;33m)\u001b[0m\u001b[1;33m:\u001b[0m\u001b[1;33m\u001b[0m\u001b[1;33m\u001b[0m\u001b[0m\n\u001b[0m\u001b[0;32m     13\u001b[0m     \u001b[0md\u001b[0m \u001b[1;33m=\u001b[0m \u001b[0minput\u001b[0m\u001b[1;33m(\u001b[0m\u001b[1;34m\"Enter the amount to Deposite     : \"\u001b[0m\u001b[1;33m)\u001b[0m\u001b[1;33m\u001b[0m\u001b[1;33m\u001b[0m\u001b[0m\n\u001b[0;32m     14\u001b[0m     \u001b[0mw\u001b[0m \u001b[1;33m=\u001b[0m \u001b[0minput\u001b[0m\u001b[1;33m(\u001b[0m\u001b[1;34m\"Enter the amount to withdraw     : \"\u001b[0m\u001b[1;33m)\u001b[0m\u001b[1;33m\u001b[0m\u001b[1;33m\u001b[0m\u001b[0m\n",
      "\u001b[1;32mC:\\Users\\VAIBHA~1\\AppData\\Local\\Temp/ipykernel_17260/3116879257.py\u001b[0m in \u001b[0;36mBank\u001b[1;34m()\u001b[0m\n\u001b[0;32m     13\u001b[0m     \u001b[0md\u001b[0m \u001b[1;33m=\u001b[0m \u001b[0minput\u001b[0m\u001b[1;33m(\u001b[0m\u001b[1;34m\"Enter the amount to Deposite     : \"\u001b[0m\u001b[1;33m)\u001b[0m\u001b[1;33m\u001b[0m\u001b[1;33m\u001b[0m\u001b[0m\n\u001b[0;32m     14\u001b[0m     \u001b[0mw\u001b[0m \u001b[1;33m=\u001b[0m \u001b[0minput\u001b[0m\u001b[1;33m(\u001b[0m\u001b[1;34m\"Enter the amount to withdraw     : \"\u001b[0m\u001b[1;33m)\u001b[0m\u001b[1;33m\u001b[0m\u001b[1;33m\u001b[0m\u001b[0m\n\u001b[1;32m---> 15\u001b[1;33m     \u001b[0mcb\u001b[0m \u001b[1;33m=\u001b[0m \u001b[0md\u001b[0m \u001b[1;33m-\u001b[0m \u001b[0mw\u001b[0m\u001b[1;33m\u001b[0m\u001b[1;33m\u001b[0m\u001b[0m\n\u001b[0m\u001b[0;32m     16\u001b[0m     \u001b[0mb\u001b[0m \u001b[1;33m=\u001b[0m \u001b[0minput\u001b[0m\u001b[1;33m(\u001b[0m\u001b[1;34m\"Enter the amount to Balance Check: \"\u001b[0m\u001b[1;33m,\u001b[0m\u001b[0mcb\u001b[0m\u001b[1;33m)\u001b[0m\u001b[1;33m\u001b[0m\u001b[1;33m\u001b[0m\u001b[0m\n\u001b[0;32m     17\u001b[0m     \u001b[1;32mif\u001b[0m \u001b[0mw\u001b[0m\u001b[1;33m>\u001b[0m\u001b[0md\u001b[0m\u001b[1;33m:\u001b[0m\u001b[1;33m\u001b[0m\u001b[1;33m\u001b[0m\u001b[0m\n",
      "\u001b[1;31mTypeError\u001b[0m: unsupported operand type(s) for -: 'str' and 'str'"
     ]
    }
   ],
   "source": [
    "class RBI():\n",
    "    def loan(self):\n",
    "        home =\"Home Loan ROI      :5%\"\n",
    "        buss =\"Business Loan ROI  :7%\"\n",
    "        edu  =\"Education Loan ROI :9%\"\n",
    "        \n",
    "    def __inti__(self):\n",
    "        self.homeloan = \"5%\"\n",
    "        self.busiloan = \"7%\"\n",
    "        self.eduloan  = \"8%\"\n",
    "\n",
    "class Bank(RBI):\n",
    "    d = input(\"Enter the amount to Deposite     : \")\n",
    "    w = input(\"Enter the amount to withdraw     : \")\n",
    "    cb = d - w\n",
    "    b = input(\"Enter the amount to Balance Check: \",cb)\n",
    "    if w>d:\n",
    "        print(\"Insufficient Amount\")\n",
    "    else:\n",
    "        print(\"Amount Withdrawn\")\n",
    "class SBI (Bank):\n",
    "    print(\"SBi Home Loan     :\",self.homeloan)\n",
    "    print(\"SBi Business Loan :\",self.busiloan)\n",
    "    print(\"SBi Education Loan:\",self.eduloan)\n",
    "\n",
    "RBI.edu=\"10%\"\n",
    "class ICICI(Bank):\n",
    "    print(\"SBi Home Loan     :\",self.homeloan)\n",
    "    print(\"SBi Business Loan :\",self.busiloan)\n",
    "    print(\"SBi Education Loan:\",self.eduloan)\n",
    "    #Edu loan 10\n",
    "    \n",
    "RBI.buss=\"9%\"\n",
    "class HDFC(Bank):\n",
    "    print(\"HDFC Home Loan     :\",self.homeloan)\n",
    "    print(\"HDFC Business Loan :\",self.busiloan)\n",
    "    print(\"HDFC Education Loan:\",self.eduloan)\n",
    "    #HDFC Bussiness loan 9%"
   ]
  },
  {
   "cell_type": "code",
   "execution_count": 53,
   "id": "653cddfb",
   "metadata": {},
   "outputs": [
    {
     "name": "stdout",
     "output_type": "stream",
     "text": [
      "homeLoan_ROI = 5%\n",
      "bussinessLoan_ROI = 7%\n",
      "bussinessLoan_ROI = 7%\n",
      "bussinessLoan_ROI = 7%\n",
      "EducationLoad_ROI = 8%\n",
      "1.SBI\n",
      "ICICI\n",
      "HDFC\n",
      "Select the serial number to check for loans available 2\n",
      "Bussiness Loan for ICICI is 10% \n",
      "Enter the amount to be deposited : 50000\n",
      "Enter the amount to be withdrawn : 45000\n",
      "Successfully withdrawn  45000\n",
      "Amount left :  5000\n"
     ]
    }
   ],
   "source": [
    "from abc import ABC\n",
    "\n",
    "\n",
    "class RBI(ABC):\n",
    "\n",
    "\n",
    "    def homeloan(self): \n",
    "        print(\"homeLoan_ROI = 5%\")\n",
    "        print(\"bussinessLoan_ROI = 7%\")\n",
    "        print(\"bussinessLoan_ROI = 7%\")\n",
    "    def bussinessloan(self):     \n",
    "        print(\"bussinessLoan_ROI = 7%\")\n",
    "    def eduloan(self):     \n",
    "        print(\"EducationLoad_ROI = 8%\")\n",
    "\n",
    "\n",
    "class Bank(RBI):\n",
    "    def transactions(self):\n",
    "        deposite = int(input(\"Enter the amount to be deposited : \"))\n",
    "        withdraw = int(input(\"Enter the amount to be withdrawn : \"))\n",
    "        if(withdraw>deposite):\n",
    "            print(\"You don't have sufficient balance.\")\n",
    "        else:\n",
    "            print(\"Successfully withdrawn \",withdraw)    \n",
    "\n",
    "\n",
    "        checkbal = deposite - withdraw\n",
    "        print(\"Amount left : \",checkbal)\n",
    "\n",
    "\n",
    "class SBI(Bank):\n",
    "    def updatedRate(self):\n",
    "        print(\"1.SBI\")\n",
    "        print(\"ICICI\")\n",
    "        print(\"HDFC\")\n",
    "        val = int(input(\"Select the serial number to check for loans available \"))\n",
    "        if(val==1):\n",
    "            print(\"Home loan for SBI is 4.5% \")\n",
    "        elif(val==2):\n",
    "            print(\"Bussiness Loan for ICICI is 10% \")\n",
    "        elif(val==3):\n",
    "            print(\"EDucation loan for HDFC is 9% \")                \n",
    "\n",
    "\n",
    "obj = SBI()\n",
    "obj.homeloan()\n",
    "obj.bussinessloan()\n",
    "obj.eduloan()                  \n",
    "obj.updatedRate()\n",
    "obj.transactions()"
   ]
  },
  {
   "cell_type": "code",
   "execution_count": 34,
   "id": "dd17f143",
   "metadata": {},
   "outputs": [
    {
     "ename": "SyntaxError",
     "evalue": "invalid syntax (Temp/ipykernel_17260/636360077.py, line 9)",
     "output_type": "error",
     "traceback": [
      "\u001b[1;36m  File \u001b[1;32m\"C:\\Users\\VAIBHA~1\\AppData\\Local\\Temp/ipykernel_17260/636360077.py\"\u001b[1;36m, line \u001b[1;32m9\u001b[0m\n\u001b[1;33m    print(\"Move 1\",A \"from A to C\",Soucre)\u001b[0m\n\u001b[1;37m                     ^\u001b[0m\n\u001b[1;31mSyntaxError\u001b[0m\u001b[1;31m:\u001b[0m invalid syntax\n"
     ]
    }
   ],
   "source": [
    "A = [3, 2, 1]\n",
    "B = []\n",
    "C = []\n",
    "\n",
    "print(\"Welcome to Henoi Game\")\n",
    "\n",
    "def Tower_of_Henoi(n, Target, Soucre):\n",
    "    if n==3:\n",
    "        print(\"Move 1\",A \"from A to C\",Soucre)\n",
    "    elif n==2:\n",
    "        print(\"Move 2 from A to B\")\n",
    "    \n",
    "\n"
   ]
  },
  {
   "cell_type": "markdown",
   "id": "cf720c49",
   "metadata": {},
   "source": [
    " "
   ]
  },
  {
   "cell_type": "code",
   "execution_count": null,
   "id": "a31ec69e",
   "metadata": {},
   "outputs": [],
   "source": []
  },
  {
   "cell_type": "code",
   "execution_count": 43,
   "id": "0433f33e",
   "metadata": {},
   "outputs": [
    {
     "ename": "TypeError",
     "evalue": "unsupported operand type(s) for +: 'int' and 'Deposit'",
     "output_type": "error",
     "traceback": [
      "\u001b[1;31m---------------------------------------------------------------------------\u001b[0m",
      "\u001b[1;31mTypeError\u001b[0m                                 Traceback (most recent call last)",
      "\u001b[1;32mC:\\Users\\VAIBHA~1\\AppData\\Local\\Temp/ipykernel_17260/268367399.py\u001b[0m in \u001b[0;36m<module>\u001b[1;34m\u001b[0m\n\u001b[0;32m     12\u001b[0m \u001b[0md3\u001b[0m\u001b[1;33m=\u001b[0m\u001b[0mDeposit\u001b[0m\u001b[1;33m(\u001b[0m\u001b[1;36m1400\u001b[0m\u001b[1;33m)\u001b[0m\u001b[1;33m\u001b[0m\u001b[1;33m\u001b[0m\u001b[0m\n\u001b[0;32m     13\u001b[0m \u001b[0md4\u001b[0m\u001b[1;33m=\u001b[0m\u001b[0mDeposit\u001b[0m\u001b[1;33m(\u001b[0m\u001b[1;36m2700\u001b[0m\u001b[1;33m)\u001b[0m\u001b[1;33m\u001b[0m\u001b[1;33m\u001b[0m\u001b[0m\n\u001b[1;32m---> 14\u001b[1;33m \u001b[0mprint\u001b[0m\u001b[1;33m(\u001b[0m\u001b[1;34m\"Total cash deposit amount=\"\u001b[0m\u001b[1;33m,\u001b[0m\u001b[0md1\u001b[0m\u001b[1;33m+\u001b[0m\u001b[0md2\u001b[0m\u001b[1;33m+\u001b[0m\u001b[0md3\u001b[0m\u001b[1;33m+\u001b[0m\u001b[0md4\u001b[0m\u001b[1;33m)\u001b[0m\u001b[1;33m\u001b[0m\u001b[1;33m\u001b[0m\u001b[0m\n\u001b[0m",
      "\u001b[1;31mTypeError\u001b[0m: unsupported operand type(s) for +: 'int' and 'Deposit'"
     ]
    }
   ],
   "source": [
    "class Deposit:\n",
    "    def __init__(self,cash):\n",
    "        self.cash = cash\n",
    "\n",
    "    def __add__(self,other):  # magic method\n",
    "        return self.cash + other.cash\n",
    "\n",
    "\n",
    "d1=Deposit(1000)\n",
    "d2=Deposit(2000)\n",
    "\n",
    "d3=Deposit(1400)\n",
    "d4=Deposit(2700)\n",
    "print(\"Total cash deposit amount=\",d1+d2+d3+d4)"
   ]
  }
 ],
 "metadata": {
  "kernelspec": {
   "display_name": "Python 3 (ipykernel)",
   "language": "python",
   "name": "python3"
  },
  "language_info": {
   "codemirror_mode": {
    "name": "ipython",
    "version": 3
   },
   "file_extension": ".py",
   "mimetype": "text/x-python",
   "name": "python",
   "nbconvert_exporter": "python",
   "pygments_lexer": "ipython3",
   "version": "3.9.7"
  }
 },
 "nbformat": 4,
 "nbformat_minor": 5
}
