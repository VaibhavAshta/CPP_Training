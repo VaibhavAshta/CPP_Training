{
 "cells": [
  {
   "cell_type": "code",
   "execution_count": 1,
   "id": "90fc2059",
   "metadata": {},
   "outputs": [
    {
     "name": "stdout",
     "output_type": "stream",
     "text": [
      "Hello world\n",
      "task done\n"
     ]
    }
   ],
   "source": [
    "def msg():\n",
    "    print('Hello world')\n",
    "msg()\n",
    "print('task done')\n",
    "#call the function 10 times"
   ]
  },
  {
   "cell_type": "code",
   "execution_count": 4,
   "id": "2ef50b71",
   "metadata": {},
   "outputs": [
    {
     "name": "stdout",
     "output_type": "stream",
     "text": [
      "First name= Vaibhav\n",
      "Last name= Ashta\n"
     ]
    }
   ],
   "source": [
    "def info(firstname, lastname): #called function positional function arggument\n",
    "    print('First name=',firstname)\n",
    "    \n",
    "    print('Last name=',lastname)\n",
    "    \n",
    "info('Vaibhav','Ashta')# calling function"
   ]
  },
  {
   "cell_type": "code",
   "execution_count": 8,
   "id": "24812d47",
   "metadata": {},
   "outputs": [
    {
     "data": {
      "text/plain": [
       "5"
      ]
     },
     "execution_count": 8,
     "metadata": {},
     "output_type": "execute_result"
    }
   ],
   "source": [
    "def add(num1,num2):\n",
    "    return num1+num2\n",
    "result = add(2,3) #stored it as a variable so that we can call it whenever/whereever we want\n",
    "result"
   ]
  },
  {
   "cell_type": "code",
   "execution_count": 9,
   "id": "082b1335",
   "metadata": {},
   "outputs": [
    {
     "name": "stdout",
     "output_type": "stream",
     "text": [
      "Result =  (15, 5, 50)\n"
     ]
    }
   ],
   "source": [
    "#return multiple values\n",
    "def arithematic(a,b):\n",
    "    r = a+b\n",
    "    n = a-b\n",
    "    m = a*b\n",
    "    return r,n,m # most of the cases value is returned in tuples since our requirment is fixed.\n",
    "result = arithematic(10,5)\n",
    "print('Result = ',result)\n",
    "    "
   ]
  },
  {
   "cell_type": "code",
   "execution_count": 10,
   "id": "bda143e0",
   "metadata": {},
   "outputs": [
    {
     "name": "stdout",
     "output_type": "stream",
     "text": [
      "Enter First nameVaibhav \n",
      "Enter last nameAshta\n",
      "hi Vaibhav \n",
      "hi Ashta\n"
     ]
    }
   ],
   "source": [
    "def func(fname,lname):#called function\n",
    "    print(\"hi\",fname)\n",
    "    print('hi',lname)\n",
    "#keyword arugment\n",
    "fname = input(\"Enter First name\")\n",
    "lname = input('Enter last name')\n",
    "func(fname,lname)#calling function\n",
    "#we can pass argument values by keyword\n",
    "#order doesn't matter but arugment does(matched)"
   ]
  },
  {
   "cell_type": "code",
   "execution_count": 12,
   "id": "b860968d",
   "metadata": {},
   "outputs": [
    {
     "name": "stdout",
     "output_type": "stream",
     "text": [
      "I am from  Mumbai\n",
      "I am from  LA\n",
      "I am from  Nagpur\n"
     ]
    }
   ],
   "source": [
    "#default argument\n",
    "def func(city = 'Nagpur'):\n",
    "    print(\"I am from \",city)\n",
    "    \n",
    "func(\"Mumbai\")\n",
    "func(\"LA\")\n",
    "func()"
   ]
  },
  {
   "cell_type": "code",
   "execution_count": 15,
   "id": "8544de64",
   "metadata": {},
   "outputs": [
    {
     "name": "stdout",
     "output_type": "stream",
     "text": [
      "My name is Ashta\n"
     ]
    }
   ],
   "source": [
    "#unknown argument\n",
    "def func(**name):#calling function\n",
    "    print(\"My name is\",name[\"lname\"])\n",
    "func(fname = \"Vaibhav\", lname=\"Ashta\")#called function"
   ]
  },
  {
   "cell_type": "markdown",
   "id": "2961343e",
   "metadata": {},
   "source": [
    "# check whether we can pass set, frozen set, tuples, dic and if we can how we can access it\n"
   ]
  },
  {
   "cell_type": "code",
   "execution_count": 17,
   "id": "c2d6b89a",
   "metadata": {},
   "outputs": [
    {
     "name": "stdout",
     "output_type": "stream",
     "text": [
      "vaibhav\n",
      "kunal\n",
      "manas\n",
      "aditya\n"
     ]
    }
   ],
   "source": [
    "#check whether we can pass set, frozen set, tuples, dic and if we can how we can access it\n",
    "def func(name):\n",
    "    for i in name:\n",
    "        print(i)\n",
    "name_of_p=['vaibhav',\"kunal\",\"manas\",\"aditya\"]\n",
    "func(name_of_p)"
   ]
  },
  {
   "cell_type": "code",
   "execution_count": 4,
   "id": "a7d2675b",
   "metadata": {},
   "outputs": [
    {
     "name": "stdout",
     "output_type": "stream",
     "text": [
      "enter the namevaibhav\n",
      "the charatar present at index no 4 value is : vaibhav\n"
     ]
    }
   ],
   "source": [
    "def func(name):\n",
    "    j=0\n",
    "    for i in name:\n",
    "        if i=='h':\n",
    "            print(\"the charatar present at index no\",j,\"value is :\",name)\n",
    "            break\n",
    "        j=j+1\n",
    "\n",
    "name=input(\"Enter the name:\")\n",
    "func(name)        "
   ]
  },
  {
   "cell_type": "code",
   "execution_count": 21,
   "id": "b9a062bf",
   "metadata": {},
   "outputs": [
    {
     "name": "stdout",
     "output_type": "stream",
     "text": [
      "('Vaibhav', 'Kunal', 'Deexith', 1000)\n"
     ]
    }
   ],
   "source": [
    "def name(*name):#* means all values will be printed\n",
    "    print(name)\n",
    "    \n",
    "name(\"Vaibhav\",\"Kunal\",'Deexith',1000)"
   ]
  },
  {
   "cell_type": "code",
   "execution_count": 8,
   "id": "0ace5bec",
   "metadata": {},
   "outputs": [
    {
     "name": "stdout",
     "output_type": "stream",
     "text": [
      "Enter Username:fknsrg\n",
      "Enter Passwors:srgrsf\n",
      "You have entered wrong crendtials\n",
      "Enter Username:vaibhav\n",
      "Enter Passwors:vaibhav\n",
      "Login Successful\n"
     ]
    }
   ],
   "source": [
    "def login():\n",
    "    while True:\n",
    "        username= input(\"Enter Username:\")\n",
    "        password= input(\"Enter Passwors:\")\n",
    "        if username == password:\n",
    "            print(\"Login Successful\")\n",
    "            break\n",
    "        else:\n",
    "            print(\"You have entered wrong crendtials\")\n",
    "login()"
   ]
  },
  {
   "cell_type": "code",
   "execution_count": 24,
   "id": "682ddc48",
   "metadata": {},
   "outputs": [
    {
     "ename": "SyntaxError",
     "evalue": "cannot assign to function call (Temp/ipykernel_31248/405638998.py, line 2)",
     "output_type": "error",
     "traceback": [
      "\u001b[1;36m  File \u001b[1;32m\"C:\\Users\\VAIBHA~1\\AppData\\Local\\Temp/ipykernel_31248/405638998.py\"\u001b[1;36m, line \u001b[1;32m2\u001b[0m\n\u001b[1;33m    factorial(n) = n*factorial(n-1)\u001b[0m\n\u001b[1;37m    ^\u001b[0m\n\u001b[1;31mSyntaxError\u001b[0m\u001b[1;31m:\u001b[0m cannot assign to function call\n"
     ]
    }
   ],
   "source": [
    "#Recursive Function\n",
    "image taken in phone "
   ]
  },
  {
   "cell_type": "code",
   "execution_count": 26,
   "id": "36821791",
   "metadata": {},
   "outputs": [
    {
     "name": "stdout",
     "output_type": "stream",
     "text": [
      "The Square of 4 is: 16\n"
     ]
    }
   ],
   "source": [
    "s=lambda n:n*n\n",
    "print(\"The Square of 4 is:\",s(4))"
   ]
  },
  {
   "cell_type": "code",
   "execution_count": 27,
   "id": "e10882b0",
   "metadata": {},
   "outputs": [],
   "source": [
    "#Nested function"
   ]
  },
  {
   "cell_type": "code",
   "execution_count": 28,
   "id": "b9a07197",
   "metadata": {},
   "outputs": [],
   "source": [
    "#Generator"
   ]
  },
  {
   "cell_type": "code",
   "execution_count": 56,
   "id": "6b61d08d",
   "metadata": {},
   "outputs": [
    {
     "name": "stdout",
     "output_type": "stream",
     "text": [
      "Passenger Name:vaibhav\n",
      "Passenger Age:20\n",
      "Enter No. of passenger:10\n",
      "Phone no of passenger:2891289\n",
      "Email-ID of passenger:21882djwbcdj\n",
      "Place of boarding:mum\n",
      "Place of Arriving:agra\n",
      "1. Non AC Bus 500 \n",
      "2. AC Bus 1000\n",
      "2\n",
      "=================================================================================\n"
     ]
    }
   ],
   "source": [
    "def getData():\n",
    "    global n\n",
    "    Name    = input(\"Passenger Name:\")\n",
    "    age     = int(input(\"Passenger Age:\"))\n",
    "    n       = int(input(\"Enter No. of passenger:\"))\n",
    "    mob_no  = int(input(\"Phone no of passenger:\"))\n",
    "    email_id= str(input(\"Email-ID of passenger:\")) \n",
    "    b_place = input(\"Place of boarding:\")\n",
    "    d_place = input(\"Place of Arriving:\")\n",
    "    fare    = input(\"1. Non AC Bus 500 \\n2. AC Bus 1000\\n\")\n",
    "    print(\"=================================================================================\")\n",
    "    calculatorFare(fare, n)      \n",
    "getData()"
   ]
  },
  {
   "cell_type": "code",
   "execution_count": 55,
   "id": "a918e4c9",
   "metadata": {},
   "outputs": [],
   "source": [
    "def calculatorFare(fare, n):\n",
    "    if  fare == 1:\n",
    "        c = n*500\n",
    "        print(\"The Fare for passenger\",n,\"the amount will be\",c)\n",
    "    elif fare == 2:\n",
    "        c = n*1000\n",
    "        print(\"The Fare for passenger\",n,\"the amount will be\",c)"
   ]
  },
  {
   "cell_type": "code",
   "execution_count": 57,
   "id": "b83afff2",
   "metadata": {},
   "outputs": [],
   "source": [
    "#Module [can be done in VScode only]\n",
    "# import by file name\n",
    "# shortcut name for module\n",
    "# from module1 import*(can import everything)"
   ]
  },
  {
   "cell_type": "code",
   "execution_count": null,
   "id": "b8edccde",
   "metadata": {},
   "outputs": [],
   "source": []
  }
 ],
 "metadata": {
  "kernelspec": {
   "display_name": "Python 3 (ipykernel)",
   "language": "python",
   "name": "python3"
  },
  "language_info": {
   "codemirror_mode": {
    "name": "ipython",
    "version": 3
   },
   "file_extension": ".py",
   "mimetype": "text/x-python",
   "name": "python",
   "nbconvert_exporter": "python",
   "pygments_lexer": "ipython3",
   "version": "3.9.7"
  }
 },
 "nbformat": 4,
 "nbformat_minor": 5
}
